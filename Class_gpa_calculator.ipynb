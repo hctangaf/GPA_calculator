{
 "cells": [
  {
   "cell_type": "code",
   "execution_count": 1,
   "metadata": {},
   "outputs": [],
   "source": [
    "from bs4 import BeautifulSoup\n",
    "import requests\n",
    "import pandas as pd\n",
    "import numpy as np"
   ]
  },
  {
   "cell_type": "code",
   "execution_count": 143,
   "metadata": {},
   "outputs": [],
   "source": [
    "class Student:\n",
    "    \n",
    "    def __init__(self, name, gender):\n",
    "        self.name = name\n",
    "        self.gender = gender\n",
    "        \n",
    "    def set_age_and_year(self, age = 0):\n",
    "        \n",
    "        \"\"\"\n",
    "        This function is used to set the age and the year of study of the university student\n",
    "        \n",
    "        Args:\n",
    "            age (int, default = 0): The age of the student\n",
    "        \n",
    "        \"\"\"\n",
    "        self.age = age\n",
    "        list_age = [18,19,20,21] # The age group of university student (usually from age 18 - 21)\n",
    "        if self.age in list_age: # Test if the input age is inside the list, list_age\n",
    "            self.year = int(list_age.index(self.age)) + 1\n",
    "        else:\n",
    "            self.year = 0 # Non university student\n",
    "            print('The age below 18 are not university student')\n",
    "        \n",
    "    def set_major(self, major):\n",
    "        \n",
    "        \"\"\"\n",
    "        This function is to set the major of the student\n",
    "        \n",
    "        Args:\n",
    "            major (str): The major of the university student\n",
    "        \n",
    "        \"\"\"\n",
    "        if self.year == 0 and major == 'no': # For non university student\n",
    "            print('The age below 18 are not university student')\n",
    "            self.major = 'null'\n",
    "            \n",
    "        elif self.year == 1 and major == 'no': # For year one student\n",
    "            print('Year one student has not declare major')\n",
    "            self.major = 'null'\n",
    "            \n",
    "        else:\n",
    "            self.major = major # set the input major to self.major\n",
    "        \n",
    "    def gpa_calculate(self, credit, grade, university):\n",
    "        \n",
    "        \"\"\"\n",
    "        To set the gpa of the university student\n",
    "        \n",
    "        Args:\n",
    "            credit (list): a list containing the credit for all the subjects. \n",
    "                           e.g. A student has four '3-creds',then courses = [3,3,3,3]\n",
    "                           \n",
    "            grade (list): a list containing the grade for all the subjects\n",
    "                          e.g. A student's grade point are 'A+, B, B+, C', then grade = ['A+', 'B', 'B+', 'C']\n",
    "            \n",
    "            university (str): The university of the student.\n",
    "        \"\"\"\n",
    "        \n",
    "        self.credit = credit\n",
    "        self.grade = grade\n",
    "        \n",
    "        def get_url(url, university):\n",
    "            \n",
    "            \"\"\"\n",
    "            To get the url and the grade point of different universities.\n",
    "            \n",
    "            Args:\n",
    "                url (str): The grading system url of different university in Hong Kong.\n",
    "                \n",
    "                university (str): The university of the student.\n",
    "            \n",
    "            Returns:\n",
    "                numpy array: The grade and grade point for different universities. \n",
    "                             e.g. hkust has grade = array(['A+', 'A', 'A-', 'B+', 'B', 'B-', 'C+', 'C', 'C-', 'D', 'F']),\n",
    "                                  and grade point = array([4.3, 4, 3.7, 3.3, 3, 2.7, 2.3, 2, 1.7, 1, 0])\n",
    "                \n",
    "            \"\"\"\n",
    "            \n",
    "            r = requests.get(url)\n",
    "            html_doc = r.text\n",
    "            \n",
    "            # These universities have similar grading system (A+ = 4.3, A = 4, A- = 3.7)\n",
    "            if university in ['hku', 'polyu', 'hkust', 'cityu', 'ouhk']:  \n",
    "                \n",
    "                df = pd.read_html(html_doc)[0]\n",
    "                grade = np.array(df['Grade']['Grade'])\n",
    "                grade_point = np.array(df['From 2020/21']['Corresponding Grade Point'])\n",
    "                \n",
    "                if university == 'hkust' or university == 'cityu':  # HKUST and CityU don't have D+\n",
    "                    grade = np.delete(grade, 9)\n",
    "                    grade_point = np.delete(grade_point, 9)\n",
    "                    \n",
    "                if university == 'ouhk': # OUHK don't have A+, C-, D+ and D\n",
    "                    grade = np.delete(grade, [0,8,9,10])\n",
    "                    grade_point = np.delete(grade_point, [0,8,9,10])\n",
    "                    \n",
    "                return grade, grade_point\n",
    "            \n",
    "            # These universities have similar grading system (A = 4.00, A- = 3.67, B+ = 3.33, *without D+)\n",
    "            elif university == 'hkbu' or university == 'eduhk':\n",
    "                df = pd.read_html(html_doc)[0]\n",
    "                df = df.iloc[0:11]\n",
    "                grade = np.array(df['Letter Grade'])\n",
    "                grade_point = np.array(df['Grade Point per Unit'])\n",
    "                \n",
    "                if university == 'eduhk':\n",
    "                    grade = np.append(grade, ['A+']) # EduHK has A+ as 4.33\n",
    "                    grade_point = np.append(grade_point, ['4.33'])\n",
    "                    \n",
    "                return grade, grade_point\n",
    "            \n",
    "            # These universities have similar grading system (A = 4.0, A- = 3.7, B+ = 3.3, *with D+)\n",
    "            elif university == 'cuhk' or university == 'hsuhk':\n",
    "                df = pd.read_html(html_doc)[1]\n",
    "                df = df.iloc[7:18,2:4]\n",
    "                grade = np.array(df.iloc[:,0])\n",
    "                grade_point = np.array(df.iloc[:,1])\n",
    "                \n",
    "                return grade, grade_point\n",
    "            \n",
    "            # These universities have similar grading system (A = 4.00, A- = 3.67, B+ = 3.33, *with D+)\n",
    "            elif university == 'lingu':\n",
    "                df = pd.read_html(html_doc)[0]\n",
    "                grade = np.array(df.loc[0:10, 'Sub-divisions'])\n",
    "                grade_point = np.array(df.loc[0:10, 'Grade Points'])\n",
    "                \n",
    "                return grade, grade_point\n",
    "        \n",
    "        # use the function \"get_url\" to get the grade and grade point for different universities.\n",
    "        if university in ['hku', 'polyu', 'hkust', 'cityu', 'ouhk']:\n",
    "            grades, grade_point = get_url('https://www.polyu.edu.hk/ar/ARN/arn_explanation.html', university)\n",
    "            \n",
    "        elif university == 'hkbu' or university == 'eduhk':\n",
    "            grades, grade_point = get_url('https://ar.hkbu.edu.hk/student-services/academic-results/assessment-grading-system', university)\n",
    "        \n",
    "        elif university == 'cuhk' or university == 'hsuhk':\n",
    "             grades, grade_point = get_url('http://www.res.cuhk.edu.hk/en-gb/general-information/guide-to-grading-system', university)\n",
    "        \n",
    "        elif university == 'lingu':\n",
    "             grades, grade_point = get_url('https://www.ln.edu.hk/arts/first-year-students/grading-system.php', university)\n",
    "        \n",
    "        gpa = []\n",
    "        for num in range(len(self.grade)):\n",
    "            \n",
    "            #Check if the input grade is inside the grading system of the university, if not return gpa = 0.00\n",
    "            if self.grade[num] not in grades:\n",
    "                print(f'Error!! {self.grade[num]} is not included in the grading system')\n",
    "                gpa = [0.00]\n",
    "                break\n",
    "            \n",
    "            \"\"\"\n",
    "            Since the position of grade is corresponding to particular grade point, we should use 'i' in \n",
    "            for loop to record the position\n",
    "            \n",
    "            If the input grade is equal to the grading system of the university, we can find the \n",
    "            particular grade point for the grade using 'i'. \n",
    "            \"\"\"\n",
    "            for i in range(len(grades)):\n",
    "                if grades[i] == self.grade[num]:\n",
    "                    point = float(grade_point[i])\n",
    "                    gpa_ = round(point*self.credit[num], 3) # multiply the gpa wwith respect to the credit/weight\n",
    "                    gpa.append(gpa_)\n",
    "                    \n",
    "        self.gpa = gpa\n",
    "        cga = round(sum(gpa)/sum(self.credit), 3) # calculate the cga or semester gpa according to the credit/weight and grade\n",
    "        self.cga = cga"
   ]
  },
  {
   "cell_type": "markdown",
   "metadata": {},
   "source": [
    "# Testing"
   ]
  },
  {
   "cell_type": "markdown",
   "metadata": {},
   "source": [
    "## HKU"
   ]
  },
  {
   "cell_type": "code",
   "execution_count": 99,
   "metadata": {},
   "outputs": [
    {
     "name": "stdout",
     "output_type": "stream",
     "text": [
      "Please input the number of course: 3\n",
      "Please enter the credit and grade for each course: (Credit first, followed by the grade)\n",
      "Credit: 3\n",
      "Grade: A+\n",
      "Credit: 3\n",
      "Grade: B\n",
      "Credit: 3\n",
      "Grade: D+\n"
     ]
    }
   ],
   "source": [
    "credit_list = []\n",
    "grade_list = []\n",
    "\n",
    "n = int(input('Please input the number of course: '))\n",
    "print('Please enter the credit and grade for each course: (Credit first, followed by the grade)')\n",
    "for num in range(n):\n",
    "    credit_input = int(input('Credit: '))\n",
    "    grade_input = input('Grade: ')\n",
    "    credit_list.append(credit_input)\n",
    "    grade_list.append(grade_input)"
   ]
  },
  {
   "cell_type": "code",
   "execution_count": 101,
   "metadata": {
    "scrolled": true
   },
   "outputs": [
    {
     "name": "stdout",
     "output_type": "stream",
     "text": [
      "HKU:\n",
      "Year one student has not declare major\n",
      "name: Tang Ho Chun, gender: M\n",
      "major: null, year: 1\n",
      "sem gpa: 2.867\n"
     ]
    }
   ],
   "source": [
    "print('HKU:')\n",
    "stu1 = Student('Tang Ho Chun', 'M')\n",
    "stu1.set_age_and_year(18)\n",
    "stu1.set_major('no')\n",
    "stu1.gpa_calculate(credit_list, grade_list, 'hku')\n",
    "print(f'name: {stu1.name}, gender: {stu1.gender}')\n",
    "print(f'major: {stu1.major}, year: {stu1.year}')\n",
    "print(f'sem gpa: {stu1.cga}')"
   ]
  },
  {
   "cell_type": "markdown",
   "metadata": {},
   "source": [
    "## HKUST "
   ]
  },
  {
   "cell_type": "code",
   "execution_count": 111,
   "metadata": {},
   "outputs": [
    {
     "name": "stdout",
     "output_type": "stream",
     "text": [
      "Please input the number of course: 5\n",
      "Please enter the credit and grade for each course: (Credit first, followed by the grade)\n",
      "Credit: 3\n",
      "Grade: B+\n",
      "Credit: 3\n",
      "Grade: B\n",
      "Credit: 3\n",
      "Grade: B\n",
      "Credit: 3\n",
      "Grade: A-\n",
      "Credit: 3\n",
      "Grade: C+\n"
     ]
    }
   ],
   "source": [
    "credit_list = []\n",
    "grade_list = []\n",
    "\n",
    "n = int(input('Please input the number of course: '))\n",
    "print('Please enter the credit and grade for each course: (Credit first, followed by the grade)')\n",
    "for num in range(n):\n",
    "    credit_input = int(input('Credit: '))\n",
    "    grade_input = input('Grade: ')\n",
    "    credit_list.append(credit_input)\n",
    "    grade_list.append(grade_input)"
   ]
  },
  {
   "cell_type": "code",
   "execution_count": 112,
   "metadata": {},
   "outputs": [
    {
     "name": "stdout",
     "output_type": "stream",
     "text": [
      "HKUST:\n",
      "name: Tang Ho Chun, gender: M\n",
      "major: IEDA, year: 4\n",
      "sem gpa: 3.06\n"
     ]
    }
   ],
   "source": [
    "print('HKUST:')\n",
    "stu1 = Student('Tang Ho Chun', 'M')\n",
    "stu1.set_age_and_year(21)\n",
    "stu1.set_major('IEDA')\n",
    "stu1.gpa_calculate(credit_list, grade_list, 'hkust')\n",
    "print(f'name: {stu1.name}, gender: {stu1.gender}')\n",
    "print(f'major: {stu1.major}, year: {stu1.year}')\n",
    "print(f'sem gpa: {stu1.cga}')"
   ]
  },
  {
   "cell_type": "code",
   "execution_count": 137,
   "metadata": {},
   "outputs": [
    {
     "name": "stdout",
     "output_type": "stream",
     "text": [
      "Please input the number of course: 2\n",
      "Please enter the credit and grade for each course: (Credit first, followed by the grade)\n",
      "Credit: 3\n",
      "Grade: A\n",
      "Credit: 3\n",
      "Grade: D+\n"
     ]
    }
   ],
   "source": [
    "credit_list = []\n",
    "grade_list = []\n",
    "\n",
    "n = int(input('Please input the number of course: '))\n",
    "print('Please enter the credit and grade for each course: (Credit first, followed by the grade)')\n",
    "for num in range(n):\n",
    "    credit_input = int(input('Credit: '))\n",
    "    grade_input = input('Grade: ')\n",
    "    credit_list.append(credit_input)\n",
    "    grade_list.append(grade_input)"
   ]
  },
  {
   "cell_type": "code",
   "execution_count": 144,
   "metadata": {},
   "outputs": [
    {
     "name": "stdout",
     "output_type": "stream",
     "text": [
      "HKUST:\n",
      "Error!! D+ is not included in the grading system\n",
      "name: Tang Ho Chun, gender: M\n",
      "major: IEDA, year: 4\n",
      "sem gpa: 0.0\n"
     ]
    }
   ],
   "source": [
    "print('HKUST:')\n",
    "stu1 = Student('Tang Ho Chun', 'M')\n",
    "stu1.set_age_and_year(21)\n",
    "stu1.set_major('IEDA')\n",
    "stu1.gpa_calculate(credit_list, grade_list, 'hkust')\n",
    "print(f'name: {stu1.name}, gender: {stu1.gender}')\n",
    "print(f'major: {stu1.major}, year: {stu1.year}')\n",
    "print(f'sem gpa: {stu1.cga}')"
   ]
  },
  {
   "cell_type": "markdown",
   "metadata": {},
   "source": [
    "## CUHK "
   ]
  },
  {
   "cell_type": "code",
   "execution_count": 150,
   "metadata": {},
   "outputs": [
    {
     "name": "stdout",
     "output_type": "stream",
     "text": [
      "Please input the number of course: 3\n",
      "Please enter the credit and grade for each course: (Credit first, followed by the grade)\n",
      "Credit: 3\n",
      "Grade: A\n",
      "Credit: 3\n",
      "Grade: B+\n",
      "Credit: 3\n",
      "Grade: B\n"
     ]
    }
   ],
   "source": [
    "credit_list = []\n",
    "grade_list = []\n",
    "\n",
    "n = int(input('Please input the number of course: '))\n",
    "print('Please enter the credit and grade for each course: (Credit first, followed by the grade)')\n",
    "for num in range(n):\n",
    "    credit_input = int(input('Credit: '))\n",
    "    grade_input = input('Grade: ')\n",
    "    credit_list.append(credit_input)\n",
    "    grade_list.append(grade_input)"
   ]
  },
  {
   "cell_type": "code",
   "execution_count": 151,
   "metadata": {},
   "outputs": [
    {
     "name": "stdout",
     "output_type": "stream",
     "text": [
      "CUHK:\n",
      "Year one student has not declare major\n",
      "name: Tang Ho Chun, gender: M\n",
      "major: null, year: 1\n",
      "sem gpa: 3.433\n"
     ]
    }
   ],
   "source": [
    "print('CUHK:')\n",
    "stu1 = Student('Tang Ho Chun', 'M')\n",
    "stu1.set_age_and_year(18)\n",
    "stu1.set_major('no')\n",
    "stu1.gpa_calculate(credit_list, grade_list, 'cuhk')\n",
    "print(f'name: {stu1.name}, gender: {stu1.gender}')\n",
    "print(f'major: {stu1.major}, year: {stu1.year}')\n",
    "print(f'sem gpa: {stu1.cga}')"
   ]
  },
  {
   "cell_type": "code",
   "execution_count": 145,
   "metadata": {},
   "outputs": [
    {
     "name": "stdout",
     "output_type": "stream",
     "text": [
      "Please input the number of course: 3\n",
      "Please enter the credit and grade for each course: (Credit first, followed by the grade)\n",
      "Credit: 3\n",
      "Grade: A\n",
      "Credit: 3\n",
      "Grade: B+\n",
      "Credit: 3\n",
      "Grade: A+\n"
     ]
    }
   ],
   "source": [
    "credit_list = []\n",
    "grade_list = []\n",
    "\n",
    "n = int(input('Please input the number of course: '))\n",
    "print('Please enter the credit and grade for each course: (Credit first, followed by the grade)')\n",
    "for num in range(n):\n",
    "    credit_input = int(input('Credit: '))\n",
    "    grade_input = input('Grade: ')\n",
    "    credit_list.append(credit_input)\n",
    "    grade_list.append(grade_input)"
   ]
  },
  {
   "cell_type": "code",
   "execution_count": 148,
   "metadata": {},
   "outputs": [
    {
     "name": "stdout",
     "output_type": "stream",
     "text": [
      "CUHK:\n",
      "Error!! A+ is not included in the grading system\n",
      "name: Tang Ho Chun, gender: M\n",
      "major: IEDA, year: 3\n",
      "sem gpa: 0.0\n"
     ]
    }
   ],
   "source": [
    "print('CUHK:')\n",
    "stu1 = Student('Tang Ho Chun', 'M')\n",
    "stu1.set_age_and_year(20)\n",
    "stu1.set_major('IEDA')\n",
    "stu1.gpa_calculate(credit_list, grade_list, 'cuhk')\n",
    "print(f'name: {stu1.name}, gender: {stu1.gender}')\n",
    "print(f'major: {stu1.major}, year: {stu1.year}')\n",
    "print(f'sem gpa: {stu1.cga}')"
   ]
  },
  {
   "cell_type": "markdown",
   "metadata": {},
   "source": [
    "## PolyU "
   ]
  },
  {
   "cell_type": "code",
   "execution_count": 153,
   "metadata": {},
   "outputs": [
    {
     "name": "stdout",
     "output_type": "stream",
     "text": [
      "Please input the number of course: 3\n",
      "Please enter the credit and grade for each course: (Credit first, followed by the grade)\n",
      "Credit: 3\n",
      "Grade: A+\n",
      "Credit: 3\n",
      "Grade: B\n",
      "Credit: 3\n",
      "Grade: D+\n"
     ]
    }
   ],
   "source": [
    "credit_list = []\n",
    "grade_list = []\n",
    "\n",
    "n = int(input('Please input the number of course: '))\n",
    "print('Please enter the credit and grade for each course: (Credit first, followed by the grade)')\n",
    "for num in range(n):\n",
    "    credit_input = int(input('Credit: '))\n",
    "    grade_input = input('Grade: ')\n",
    "    credit_list.append(credit_input)\n",
    "    grade_list.append(grade_input)"
   ]
  },
  {
   "cell_type": "code",
   "execution_count": 154,
   "metadata": {},
   "outputs": [
    {
     "name": "stdout",
     "output_type": "stream",
     "text": [
      "PolyU:\n",
      "name: Tang Ho Chun, gender: M\n",
      "major: IEDA, year: 3\n",
      "sem gpa: 2.867\n"
     ]
    }
   ],
   "source": [
    "print('PolyU:')\n",
    "stu1 = Student('Tang Ho Chun', 'M')\n",
    "stu1.set_age_and_year(20)\n",
    "stu1.set_major('IEDA')\n",
    "stu1.gpa_calculate(credit_list, grade_list, 'polyu')\n",
    "print(f'name: {stu1.name}, gender: {stu1.gender}')\n",
    "print(f'major: {stu1.major}, year: {stu1.year}')\n",
    "print(f'sem gpa: {stu1.cga}')"
   ]
  },
  {
   "cell_type": "markdown",
   "metadata": {},
   "source": [
    "## CityU"
   ]
  },
  {
   "cell_type": "code",
   "execution_count": 155,
   "metadata": {},
   "outputs": [
    {
     "name": "stdout",
     "output_type": "stream",
     "text": [
      "CityU:\n",
      "Error!! D+ is not included in the grading system\n",
      "name: Tang Ho Chun, gender: M\n",
      "major: IEDA, year: 3\n",
      "sem gpa: 0.0\n"
     ]
    }
   ],
   "source": [
    "print('CityU:')\n",
    "stu1 = Student('Tang Ho Chun', 'M')\n",
    "stu1.set_age_and_year(20)\n",
    "stu1.set_major('IEDA')\n",
    "stu1.gpa_calculate(credit_list, grade_list, 'cityu')\n",
    "print(f'name: {stu1.name}, gender: {stu1.gender}')\n",
    "print(f'major: {stu1.major}, year: {stu1.year}')\n",
    "print(f'sem gpa: {stu1.cga}')"
   ]
  },
  {
   "cell_type": "code",
   "execution_count": 162,
   "metadata": {},
   "outputs": [
    {
     "name": "stdout",
     "output_type": "stream",
     "text": [
      "Please input the number of course: 3\n",
      "Please enter the credit and grade for each course: (Credit first, followed by the grade)\n",
      "Credit: 3\n",
      "Grade: A+\n",
      "Credit: 3\n",
      "Grade: A\n",
      "Credit: 3\n",
      "Grade: B\n"
     ]
    }
   ],
   "source": [
    "credit_list = []\n",
    "grade_list = []\n",
    "\n",
    "n = int(input('Please input the number of course: '))\n",
    "print('Please enter the credit and grade for each course: (Credit first, followed by the grade)')\n",
    "for num in range(n):\n",
    "    credit_input = int(input('Credit: '))\n",
    "    grade_input = input('Grade: ')\n",
    "    credit_list.append(credit_input)\n",
    "    grade_list.append(grade_input)"
   ]
  },
  {
   "cell_type": "code",
   "execution_count": 163,
   "metadata": {},
   "outputs": [
    {
     "name": "stdout",
     "output_type": "stream",
     "text": [
      "CityU:\n",
      "name: Tang Ho Chun, gender: M\n",
      "major: IEDA, year: 3\n",
      "sem gpa: 3.767\n"
     ]
    }
   ],
   "source": [
    "print('CityU:')\n",
    "stu1 = Student('Tang Ho Chun', 'M')\n",
    "stu1.set_age_and_year(20)\n",
    "stu1.set_major('IEDA')\n",
    "stu1.gpa_calculate(credit_list, grade_list, 'cityu')\n",
    "print(f'name: {stu1.name}, gender: {stu1.gender}')\n",
    "print(f'major: {stu1.major}, year: {stu1.year}')\n",
    "print(f'sem gpa: {stu1.cga}')"
   ]
  },
  {
   "cell_type": "markdown",
   "metadata": {},
   "source": [
    "## HKBU"
   ]
  },
  {
   "cell_type": "code",
   "execution_count": 164,
   "metadata": {},
   "outputs": [
    {
     "name": "stdout",
     "output_type": "stream",
     "text": [
      "HKBU:\n",
      "Error!! A+ is not included in the grading system\n",
      "name: Tang Ho Chun, gender: M\n",
      "major: IEDA, year: 3\n",
      "sem gpa: 0.0\n"
     ]
    }
   ],
   "source": [
    "print('HKBU:')\n",
    "stu1 = Student('Tang Ho Chun', 'M')\n",
    "stu1.set_age_and_year(20)\n",
    "stu1.set_major('IEDA')\n",
    "stu1.gpa_calculate(credit_list, grade_list, 'hkbu')\n",
    "print(f'name: {stu1.name}, gender: {stu1.gender}')\n",
    "print(f'major: {stu1.major}, year: {stu1.year}')\n",
    "print(f'sem gpa: {stu1.cga}')"
   ]
  },
  {
   "cell_type": "markdown",
   "metadata": {},
   "source": [
    "## EduHK"
   ]
  },
  {
   "cell_type": "code",
   "execution_count": 165,
   "metadata": {},
   "outputs": [
    {
     "name": "stdout",
     "output_type": "stream",
     "text": [
      "Eduhk:\n",
      "name: Tang Ho Chun, gender: M\n",
      "major: IEDA, year: 3\n",
      "sem gpa: 3.777\n"
     ]
    }
   ],
   "source": [
    "print('Eduhk:')\n",
    "stu1 = Student('Tang Ho Chun', 'M')\n",
    "stu1.set_age_and_year(20)\n",
    "stu1.set_major('IEDA')\n",
    "stu1.gpa_calculate(credit_list, grade_list, 'eduhk')\n",
    "print(f'name: {stu1.name}, gender: {stu1.gender}')\n",
    "print(f'major: {stu1.major}, year: {stu1.year}')\n",
    "print(f'sem gpa: {stu1.cga}')"
   ]
  },
  {
   "cell_type": "markdown",
   "metadata": {},
   "source": [
    "## OUHK"
   ]
  },
  {
   "cell_type": "code",
   "execution_count": 166,
   "metadata": {},
   "outputs": [
    {
     "name": "stdout",
     "output_type": "stream",
     "text": [
      "Please input the number of course: 3\n",
      "Please enter the credit and grade for each course: (Credit first, followed by the grade)\n",
      "Credit: 3\n",
      "Grade: A+\n",
      "Credit: 3\n",
      "Grade: A\n",
      "Credit: 3\n",
      "Grade: D\n"
     ]
    }
   ],
   "source": [
    "credit_list = []\n",
    "grade_list = []\n",
    "\n",
    "n = int(input('Please input the number of course: '))\n",
    "print('Please enter the credit and grade for each course: (Credit first, followed by the grade)')\n",
    "for num in range(n):\n",
    "    credit_input = int(input('Credit: '))\n",
    "    grade_input = input('Grade: ')\n",
    "    credit_list.append(credit_input)\n",
    "    grade_list.append(grade_input)"
   ]
  },
  {
   "cell_type": "code",
   "execution_count": 167,
   "metadata": {},
   "outputs": [
    {
     "name": "stdout",
     "output_type": "stream",
     "text": [
      "OUHK:\n",
      "Error!! A+ is not included in the grading system\n",
      "name: Tang Ho Chun, gender: M\n",
      "major: IEDA, year: 3\n",
      "sem gpa: 0.0\n"
     ]
    }
   ],
   "source": [
    "print('OUHK:')\n",
    "stu1 = Student('Tang Ho Chun', 'M')\n",
    "stu1.set_age_and_year(20)\n",
    "stu1.set_major('IEDA')\n",
    "stu1.gpa_calculate(credit_list, grade_list, 'ouhk')\n",
    "print(f'name: {stu1.name}, gender: {stu1.gender}')\n",
    "print(f'major: {stu1.major}, year: {stu1.year}')\n",
    "print(f'sem gpa: {stu1.cga}')"
   ]
  },
  {
   "cell_type": "markdown",
   "metadata": {},
   "source": [
    "## Lingnan U"
   ]
  },
  {
   "cell_type": "code",
   "execution_count": 168,
   "metadata": {},
   "outputs": [
    {
     "name": "stdout",
     "output_type": "stream",
     "text": [
      "Please input the number of course: 3\n",
      "Please enter the credit and grade for each course: (Credit first, followed by the grade)\n",
      "Credit: 3\n",
      "Grade: A\n",
      "Credit: 3\n",
      "Grade: B\n",
      "Credit: 3\n",
      "Grade: D+\n"
     ]
    }
   ],
   "source": [
    "credit_list = []\n",
    "grade_list = []\n",
    "\n",
    "n = int(input('Please input the number of course: '))\n",
    "print('Please enter the credit and grade for each course: (Credit first, followed by the grade)')\n",
    "for num in range(n):\n",
    "    credit_input = int(input('Credit: '))\n",
    "    grade_input = input('Grade: ')\n",
    "    credit_list.append(credit_input)\n",
    "    grade_list.append(grade_input)"
   ]
  },
  {
   "cell_type": "code",
   "execution_count": 169,
   "metadata": {},
   "outputs": [
    {
     "name": "stdout",
     "output_type": "stream",
     "text": [
      "Lingnan U:\n",
      "name: Tang Ho Chun, gender: M\n",
      "major: IEDA, year: 3\n",
      "sem gpa: 2.777\n"
     ]
    }
   ],
   "source": [
    "print('Lingnan U:')\n",
    "stu1 = Student('Tang Ho Chun', 'M')\n",
    "stu1.set_age_and_year(20)\n",
    "stu1.set_major('IEDA')\n",
    "stu1.gpa_calculate(credit_list, grade_list, 'lingu')\n",
    "print(f'name: {stu1.name}, gender: {stu1.gender}')\n",
    "print(f'major: {stu1.major}, year: {stu1.year}')\n",
    "print(f'sem gpa: {stu1.cga}')"
   ]
  },
  {
   "cell_type": "markdown",
   "metadata": {},
   "source": [
    "## HSUHK"
   ]
  },
  {
   "cell_type": "code",
   "execution_count": 170,
   "metadata": {},
   "outputs": [
    {
     "name": "stdout",
     "output_type": "stream",
     "text": [
      "HSUHK:\n",
      "name: Tang Ho Chun, gender: M\n",
      "major: IEDA, year: 3\n",
      "sem gpa: 2.767\n"
     ]
    }
   ],
   "source": [
    "print('HSUHK:')\n",
    "stu1 = Student('Tang Ho Chun', 'M')\n",
    "stu1.set_age_and_year(20)\n",
    "stu1.set_major('IEDA')\n",
    "stu1.gpa_calculate(credit_list, grade_list, 'hsuhk')\n",
    "print(f'name: {stu1.name}, gender: {stu1.gender}')\n",
    "print(f'major: {stu1.major}, year: {stu1.year}')\n",
    "print(f'sem gpa: {stu1.cga}')"
   ]
  },
  {
   "cell_type": "code",
   "execution_count": null,
   "metadata": {},
   "outputs": [],
   "source": []
  },
  {
   "cell_type": "code",
   "execution_count": null,
   "metadata": {},
   "outputs": [],
   "source": []
  },
  {
   "cell_type": "code",
   "execution_count": null,
   "metadata": {},
   "outputs": [],
   "source": []
  },
  {
   "cell_type": "code",
   "execution_count": null,
   "metadata": {},
   "outputs": [],
   "source": []
  },
  {
   "cell_type": "code",
   "execution_count": null,
   "metadata": {},
   "outputs": [],
   "source": []
  },
  {
   "cell_type": "code",
   "execution_count": null,
   "metadata": {},
   "outputs": [],
   "source": []
  },
  {
   "cell_type": "code",
   "execution_count": null,
   "metadata": {},
   "outputs": [],
   "source": []
  },
  {
   "cell_type": "code",
   "execution_count": null,
   "metadata": {},
   "outputs": [],
   "source": []
  }
 ],
 "metadata": {
  "kernelspec": {
   "display_name": "Python 3",
   "language": "python",
   "name": "python3"
  },
  "language_info": {
   "codemirror_mode": {
    "name": "ipython",
    "version": 3
   },
   "file_extension": ".py",
   "mimetype": "text/x-python",
   "name": "python",
   "nbconvert_exporter": "python",
   "pygments_lexer": "ipython3",
   "version": "3.7.3"
  }
 },
 "nbformat": 4,
 "nbformat_minor": 2
}
